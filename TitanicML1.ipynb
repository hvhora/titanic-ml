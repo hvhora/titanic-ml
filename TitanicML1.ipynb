{
  "nbformat": 4,
  "nbformat_minor": 0,
  "metadata": {
    "colab": {
      "provenance": []
    },
    "kernelspec": {
      "name": "python3",
      "display_name": "Python 3"
    },
    "language_info": {
      "name": "python"
    }
  },
  "cells": [
    {
      "cell_type": "code",
      "source": [
        "import pandas as pd\n",
        "import seaborn as sns\n",
        "from sklearn.model_selection import train_test_split\n",
        "from sklearn.linear_model import LogisticRegression\n",
        "from sklearn.metrics import accuracy_score, confusion_matrix\n",
        "from sklearn.metrics import precision_score, recall_score, f1_score\n",
        "\n",
        "\n",
        "titanic = sns.load_dataset('titanic')\n",
        "titanic.head()\n",
        "titanic_clean = titanic.drop(columns = ['deck','embark_town', 'alive'])\n",
        "titanic_clean['age'] = titanic_clean['age'].fillna(titanic_clean['age'].median())\n",
        "titanic_clean = titanic_clean.dropna()\n",
        "titanic_clean.isnull().sum()\n",
        "titanic_clean['sex'] = titanic_clean['sex'].map({'male' : 0, 'female' : 1})\n",
        "titanic_clean['class'] = titanic_clean['class'].map({'Third' : 3, 'Second' : 2, 'First' : 1})\n",
        "x = titanic_clean[['pclass', 'sex', 'age', 'fare', 'class']]\n",
        "y = titanic_clean['survived']\n",
        "\n",
        "x_train, x_test, y_train, y_test = train_test_split(x, y, test_size=0.2, random_state=42)\n",
        "\n",
        "model = LogisticRegression(max_iter = 1000)\n",
        "model.fit(x_train, y_train)\n",
        "y_pred = model.predict(x_test)\n",
        "acc = accuracy_score(y_test, y_pred)\n",
        "print(\"Accuracy:\", acc)\n",
        "print(\"Confusion Matrix:\\n\", confusion_matrix(y_test, y_pred))\n",
        "precision = precision_score(y_test, y_pred)\n",
        "recall = recall_score(y_test, y_pred)\n",
        "f1 = f1_score(y_test, y_pred)\n",
        "\n",
        "print(f\"Precision: {precision:.2f}\")\n",
        "print(f\"Recall: {recall:.2f}\")\n",
        "print(f\"F1 Score: {f1:.2f}\")"
      ],
      "metadata": {
        "colab": {
          "base_uri": "https://localhost:8080/"
        },
        "id": "kcBI2Fs17sZu",
        "outputId": "e6ef0cd0-6633-4630-9627-a4b809f3dce6"
      },
      "execution_count": 41,
      "outputs": [
        {
          "output_type": "stream",
          "name": "stdout",
          "text": [
            "Accuracy: 0.7865168539325843\n",
            "Confusion Matrix:\n",
            " [[87 22]\n",
            " [16 53]]\n",
            "Precision: 0.71\n",
            "Recall: 0.77\n",
            "F1 Score: 0.74\n"
          ]
        }
      ]
    },
    {
      "cell_type": "code",
      "source": [],
      "metadata": {
        "id": "N63utLqQYtom"
      },
      "execution_count": null,
      "outputs": []
    }
  ]
}